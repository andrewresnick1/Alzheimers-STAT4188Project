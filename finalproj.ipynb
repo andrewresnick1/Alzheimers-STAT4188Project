{
 "cells": [
  {
   "cell_type": "code",
   "execution_count": 9,
   "metadata": {},
   "outputs": [
    {
     "data": {
      "text/plain": [
       "(373, 10)"
      ]
     },
     "execution_count": 9,
     "metadata": {},
     "output_type": "execute_result"
    }
   ],
   "source": [
    "import pandas as pd\n",
    "import numpy as np \n",
    "\n",
    "#Import the data into 'df' - the dataframe\n",
    "df = pd.read_csv(r'C:\\Users\\Andrew\\OneDrive - University of Connecticut\\Desktop\\Stat4188-Final\\alzheimer.csv')\n",
    "df.shape"
   ]
  },
  {
   "cell_type": "code",
   "execution_count": 14,
   "metadata": {},
   "outputs": [
    {
     "name": "stdout",
     "output_type": "stream",
     "text": [
      "Group     0\n",
      "M/F       0\n",
      "Age       0\n",
      "EDUC      0\n",
      "SES      19\n",
      "MMSE      2\n",
      "CDR       0\n",
      "eTIV      0\n",
      "nWBV      0\n",
      "ASF       0\n",
      "dtype: int64 Group     object\n",
      "M/F       object\n",
      "Age        int64\n",
      "EDUC       int64\n",
      "SES      float64\n",
      "MMSE     float64\n",
      "CDR      float64\n",
      "eTIV       int64\n",
      "nWBV     float64\n",
      "ASF      float64\n",
      "dtype: object\n",
      "0      2.0\n",
      "1      2.0\n",
      "2      NaN\n",
      "3      NaN\n",
      "4      NaN\n",
      "      ... \n",
      "368    1.0\n",
      "369    1.0\n",
      "370    2.0\n",
      "371    2.0\n",
      "372    2.0\n",
      "Name: SES, Length: 373, dtype: float64\n"
     ]
    }
   ],
   "source": [
    "#Data Cleaning\n",
    "df.head()\n",
    "\n",
    "#Check for missing values and types of variables\n",
    "nan_vals = df.isna().sum()\n",
    "print(nan_vals, df.dtypes)\n",
    "\n",
    "sesColumn = df['SES']\n",
    "print(sesColumn)\n"
   ]
  }
 ],
 "metadata": {
  "kernelspec": {
   "display_name": "Python 3",
   "language": "python",
   "name": "python3"
  },
  "language_info": {
   "codemirror_mode": {
    "name": "ipython",
    "version": 3
   },
   "file_extension": ".py",
   "mimetype": "text/x-python",
   "name": "python",
   "nbconvert_exporter": "python",
   "pygments_lexer": "ipython3",
   "version": "3.12.1"
  }
 },
 "nbformat": 4,
 "nbformat_minor": 2
}
